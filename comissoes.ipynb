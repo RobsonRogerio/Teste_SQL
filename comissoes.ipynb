{
 "cells": [
  {
   "cell_type": "code",
   "execution_count": 3,
   "id": "116fce07",
   "metadata": {},
   "outputs": [],
   "source": [
    "import sqlite3\n",
    "import pandas as pd\n",
    "\n",
    "# Conecta ao banco\n",
    "conn = sqlite3.connect(\"comissoes.db\")\n",
    "cur = conn.cursor()"
   ]
  },
  {
   "cell_type": "code",
   "execution_count": null,
   "id": "3bbc782c",
   "metadata": {},
   "outputs": [],
   "source": [
    "# Cria a tabela\n",
    "cur.execute(\"\"\"\n",
    "CREATE TABLE Vendas (\n",
    "    Comprador TEXT NOT NULL,\n",
    "    Vendedor TEXT NOT NULL,\n",
    "    Data DATE NOT NULL,\n",
    "    Valor REAL NOT NULL\n",
    ")\n",
    "\"\"\")\n",
    "\n",
    "# Insere os dados\n",
    "dados = [\n",
    "    ('Leonardo', 'Bruno', '2020-01-01', 200.00),\n",
    "    ('Leonardo', 'Matheus', '2003-09-27', 1024.00),\n",
    "    ('Leonardo', 'Lucas', '2006-06-26', 512.00),\n",
    "    ('Marcos', 'Lucas', '2020-12-17', 100.00),\n",
    "    ('Marcos', 'Lucas', '2022-03-22', 10.00),\n",
    "    ('Cinthia', 'Lucas', '2021-03-20', 500.00),\n",
    "    ('Matheus', 'Bruno', '2007-06-02', 400.00),\n",
    "    ('Matheus', 'Bruno', '2006-06-26', 400.00),\n",
    "    ('Matheus', 'Bruno', '2015-06-26', 200.00)\n",
    "]\n",
    "\n",
    "cur.executemany(\"INSERT INTO Vendas VALUES (?, ?, ?, ?)\", dados)\n",
    "conn.commit()"
   ]
  },
  {
   "cell_type": "code",
   "execution_count": 10,
   "id": "4a5ae497",
   "metadata": {},
   "outputs": [
    {
     "name": "stdout",
     "output_type": "stream",
     "text": [
      "  Comprador Vendedor        Data   Valor\n",
      "0  Leonardo    Bruno  2020-01-01   200.0\n",
      "1  Leonardo  Matheus  2003-09-27  1024.0\n",
      "2  Leonardo    Lucas  2006-06-26   512.0\n",
      "3    Marcos    Lucas  2020-12-17   100.0\n",
      "4    Marcos    Lucas  2022-03-22    10.0\n",
      "5   Cinthia    Lucas  2021-03-20   500.0\n",
      "6   Matheus    Bruno  2007-06-02   400.0\n",
      "7   Matheus    Bruno  2006-06-26   400.0\n",
      "8   Matheus    Bruno  2015-06-26   200.0\n"
     ]
    }
   ],
   "source": [
    "df = pd.read_sql_query(\"\"\"\n",
    "SELECT \n",
    "    Comprador, \n",
    "    Vendedor, \n",
    "    Data, \n",
    "    Valor\n",
    "FROM Vendas\n",
    "\"\"\", conn)\n",
    "\n",
    "print(df)\n"
   ]
  },
  {
   "cell_type": "code",
   "execution_count": 46,
   "id": "971df5db",
   "metadata": {},
   "outputs": [
    {
     "name": "stdout",
     "output_type": "stream",
     "text": [
      "  Vendedor        Data   Valor  Total_vendas  Qtde_vendas\n",
      "0    Bruno  2006-06-26   400.0         400.0            1\n",
      "1    Bruno  2007-06-02   400.0         800.0            2\n",
      "2    Bruno  2015-06-26   200.0        1000.0            3\n",
      "3    Bruno  2020-01-01   200.0        1200.0            4\n",
      "4    Lucas  2006-06-26   512.0         512.0            1\n",
      "5    Lucas  2020-12-17   100.0         612.0            2\n",
      "6    Lucas  2021-03-20   500.0        1112.0            3\n",
      "7    Lucas  2022-03-22    10.0        1122.0            4\n",
      "8  Matheus  2003-09-27  1024.0        1024.0            1\n"
     ]
    }
   ],
   "source": [
    "query = \"\"\"\n",
    "    SELECT \n",
    "        Vendedor, \n",
    "        Data, \n",
    "        Valor,\n",
    "        sum(Valor) OVER (PARTITION BY Vendedor ORDER BY Data) AS Total_vendas,\n",
    "        COUNT(*) OVER (PARTITION BY Vendedor ORDER BY Data) AS Qtde_vendas\n",
    "    FROM Vendas\n",
    "    ORDER BY Vendedor, Data\n",
    "\"\"\"\n",
    "\n",
    "df = pd.read_sql_query(query, conn)\n",
    "print(df)"
   ]
  },
  {
   "cell_type": "code",
   "execution_count": 47,
   "id": "14b31063",
   "metadata": {},
   "outputs": [
    {
     "name": "stdout",
     "output_type": "stream",
     "text": [
      "  Vendedor\n",
      "0    Lucas\n",
      "1  Matheus\n"
     ]
    }
   ],
   "source": [
    "query = \"\"\"\n",
    "WITH Comissoes AS (\n",
    "    SELECT \n",
    "        Vendedor, \n",
    "        Data, \n",
    "        Valor,\n",
    "        sum(Valor) OVER (PARTITION BY Vendedor ORDER BY Data) AS Total_vendas,\n",
    "        COUNT(*) OVER (PARTITION BY Vendedor ORDER BY Data) AS Qtde_vendas\n",
    "    FROM Vendas\n",
    "    ORDER BY Vendedor, Data\n",
    "    )\n",
    "\n",
    "    SELECT \n",
    "        Vendedor\n",
    "    FROM Comissoes\n",
    "    WHERE \n",
    "        Total_vendas >= 1024 AND Qtde_vendas <= 3\n",
    "\"\"\"\n",
    "\n",
    "df = pd.read_sql_query(query, conn)\n",
    "print(df)"
   ]
  }
 ],
 "metadata": {
  "kernelspec": {
   "display_name": "Python 3",
   "language": "python",
   "name": "python3"
  },
  "language_info": {
   "codemirror_mode": {
    "name": "ipython",
    "version": 3
   },
   "file_extension": ".py",
   "mimetype": "text/x-python",
   "name": "python",
   "nbconvert_exporter": "python",
   "pygments_lexer": "ipython3",
   "version": "3.13.7"
  }
 },
 "nbformat": 4,
 "nbformat_minor": 5
}
