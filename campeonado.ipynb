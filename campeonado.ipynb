{
 "cells": [
  {
   "cell_type": "code",
   "execution_count": 11,
   "id": "614ab34f",
   "metadata": {},
   "outputs": [],
   "source": [
    "import sqlite3\n",
    "import pandas as pd\n",
    "\n",
    "\n",
    "# Cria banco\n",
    "conn = sqlite3.connect(\"campeonato.db\")\n",
    "cur = conn.cursor()"
   ]
  },
  {
   "cell_type": "code",
   "execution_count": 12,
   "id": "407eb46c",
   "metadata": {},
   "outputs": [
    {
     "data": {
      "text/plain": [
       "<sqlite3.Cursor at 0x1787f484b40>"
      ]
     },
     "execution_count": 12,
     "metadata": {},
     "output_type": "execute_result"
    }
   ],
   "source": [
    "# Apaga tabelas se existirem\n",
    "cur.execute(\"DROP TABLE IF EXISTS times;\")\n",
    "cur.execute(\"DROP TABLE IF EXISTS jogos;\")"
   ]
  },
  {
   "cell_type": "code",
   "execution_count": 13,
   "id": "3a422886",
   "metadata": {},
   "outputs": [],
   "source": [
    "# Cria as tabelas\n",
    "cur.execute(\"\"\"\n",
    "CREATE TABLE times (\n",
    "    time_id INTEGER NOT NULL,\n",
    "    time_nome TEXT NOT NULL,\n",
    "    UNIQUE(time_id)\n",
    ")\n",
    "\"\"\")\n",
    "\n",
    "cur.execute(\"\"\"\n",
    "CREATE TABLE jogos (\n",
    "    jogo_id INTEGER NOT NULL,\n",
    "    time_mandante INTEGER NOT NULL,\n",
    "    time_visitante INTEGER NOT NULL,\n",
    "    gols_mandante INTEGER NOT NULL,\n",
    "    gols_visitante INTEGER NOT NULL,\n",
    "    UNIQUE(jogo_id)\n",
    ")\n",
    "\"\"\")\n",
    "\n",
    "# Insere os dados\n",
    "cur.executemany(\"INSERT INTO Times VALUES (?,?)\", [\n",
    "    (10, 'Financeiro'),\n",
    "    (20, 'Marketing'),\n",
    "    (30, 'Logística'),\n",
    "    (40, 'TI'),\n",
    "    (50, 'Dados')\n",
    "])\n",
    "\n",
    "cur.executemany(\"INSERT INTO Jogos VALUES (?,?,?,?,?)\", [\n",
    "    (1, 30, 20, 1, 0),\n",
    "    (2, 10, 20, 1, 2),\n",
    "    (3, 20, 50, 2, 2),\n",
    "    (4, 10, 30, 1, 0),\n",
    "    (5, 30, 50, 0, 1)\n",
    "])\n",
    "\n",
    "conn.commit()"
   ]
  },
  {
   "cell_type": "code",
   "execution_count": 14,
   "id": "f251b1bb",
   "metadata": {},
   "outputs": [
    {
     "name": "stdout",
     "output_type": "stream",
     "text": [
      "   time_id  pontos\n",
      "0       30       3\n",
      "1       10       0\n",
      "2       20       1\n",
      "3       10       3\n",
      "4       30       0\n"
     ]
    }
   ],
   "source": [
    "query = \"\"\"\n",
    "  SELECT \n",
    "    time_mandante AS time_id,\n",
    "    CASE\n",
    "      WHEN gols_mandante > gols_visitante THEN 3\n",
    "      WHEN gols_mandante = gols_visitante THEN 1\n",
    "      ELSE 0\n",
    "    END AS pontos\n",
    "  FROM jogos\n",
    "\"\"\"\n",
    "\n",
    "# Executa e mostra resultado\n",
    "df = pd.read_sql_query(query, conn)\n",
    "print(df)"
   ]
  },
  {
   "cell_type": "code",
   "execution_count": 15,
   "id": "a0382a51",
   "metadata": {},
   "outputs": [
    {
     "name": "stdout",
     "output_type": "stream",
     "text": [
      "   time_id  pontos\n",
      "0       20       0\n",
      "1       20       3\n",
      "2       50       1\n",
      "3       30       0\n",
      "4       50       3\n"
     ]
    }
   ],
   "source": [
    "query = \"\"\"\n",
    "    SELECT \n",
    "        time_visitante AS time_id,\n",
    "        CASE\n",
    "        WHEN gols_visitante > gols_mandante THEN 3\n",
    "        WHEN gols_visitante = gols_mandante THEN 1\n",
    "        ELSE 0\n",
    "        END AS pontos\n",
    "    FROM jogos\n",
    "\"\"\"\n",
    "\n",
    "# Executa e mostra resultado\n",
    "df = pd.read_sql_query(query, conn)\n",
    "print(df)"
   ]
  },
  {
   "cell_type": "code",
   "execution_count": 17,
   "id": "bb1bc7a1",
   "metadata": {},
   "outputs": [
    {
     "name": "stdout",
     "output_type": "stream",
     "text": [
      "   time_id  pontos\n",
      "0       30       3\n",
      "1       10       0\n",
      "2       20       1\n",
      "3       10       3\n",
      "4       30       0\n",
      "5       20       0\n",
      "6       20       3\n",
      "7       50       1\n",
      "8       30       0\n",
      "9       50       3\n"
     ]
    }
   ],
   "source": [
    "query = \"\"\"\n",
    "  SELECT \n",
    "    time_mandante AS time_id,\n",
    "    CASE\n",
    "      WHEN gols_mandante > gols_visitante THEN 3\n",
    "      WHEN gols_mandante = gols_visitante THEN 1\n",
    "      ELSE 0\n",
    "    END AS pontos\n",
    "  FROM Jogos\n",
    "\n",
    "  UNION ALL\n",
    "\n",
    "  SELECT \n",
    "    time_visitante AS time_id,\n",
    "    CASE\n",
    "      WHEN gols_visitante > gols_mandante THEN 3\n",
    "      WHEN gols_visitante = gols_mandante THEN 1\n",
    "      ELSE 0\n",
    "    END AS pontos\n",
    "  FROM Jogos\n",
    "\"\"\"\n",
    "\n",
    "# Executa e mostra resultado\n",
    "df = pd.read_sql_query(query, conn)\n",
    "print(df)"
   ]
  },
  {
   "cell_type": "code",
   "execution_count": 19,
   "id": "a0eea3f1",
   "metadata": {},
   "outputs": [
    {
     "name": "stdout",
     "output_type": "stream",
     "text": [
      "   time_id   time_nome  num_pontos\n",
      "0       20   Marketing           4\n",
      "1       50       Dados           4\n",
      "2       10  Financeiro           3\n",
      "3       30   Logística           3\n",
      "4       40          TI           0\n"
     ]
    }
   ],
   "source": [
    "query = \"\"\"\n",
    "WITH Resultados AS (\n",
    "  SELECT \n",
    "    time_mandante AS time_id,\n",
    "    CASE\n",
    "      WHEN gols_mandante > gols_visitante THEN 3\n",
    "      WHEN gols_mandante = gols_visitante THEN 1\n",
    "      ELSE 0\n",
    "    END AS pontos\n",
    "  FROM jogos\n",
    "  \n",
    "  UNION ALL\n",
    "\n",
    "  SELECT \n",
    "    time_visitante AS time_id,\n",
    "    CASE\n",
    "      WHEN gols_visitante > gols_mandante THEN 3\n",
    "      WHEN gols_visitante = gols_mandante THEN 1\n",
    "      ELSE 0\n",
    "    END AS pontos\n",
    "  FROM jogos\n",
    ")\n",
    "\n",
    "SELECT \n",
    "  T.time_id,\n",
    "  T.time_nome,\n",
    "  COALESCE(SUM(R.pontos), 0) AS num_pontos\n",
    "FROM times T\n",
    "LEFT JOIN Resultados R ON T.time_id = R.time_id\n",
    "GROUP BY T.time_id, T.time_nome\n",
    "ORDER BY Num_pontos DESC, T.time_id\n",
    "\"\"\"\n",
    "\n",
    "# Executa e mostra resultado\n",
    "df = pd.read_sql_query(query, conn)\n",
    "print(df)\n"
   ]
  }
 ],
 "metadata": {
  "kernelspec": {
   "display_name": "Python 3",
   "language": "python",
   "name": "python3"
  },
  "language_info": {
   "codemirror_mode": {
    "name": "ipython",
    "version": 3
   },
   "file_extension": ".py",
   "mimetype": "text/x-python",
   "name": "python",
   "nbconvert_exporter": "python",
   "pygments_lexer": "ipython3",
   "version": "3.13.7"
  }
 },
 "nbformat": 4,
 "nbformat_minor": 5
}
