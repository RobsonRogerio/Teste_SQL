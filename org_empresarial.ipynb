{
 "cells": [
  {
   "cell_type": "code",
   "execution_count": 123,
   "id": "bb84a970",
   "metadata": {},
   "outputs": [],
   "source": [
    "import sqlite3\n",
    "import pandas as pd"
   ]
  },
  {
   "cell_type": "code",
   "execution_count": 124,
   "id": "1aa1d518",
   "metadata": {},
   "outputs": [],
   "source": [
    "# Conecta ao banco (pode ser em memória ou arquivo .db)\n",
    "conn = sqlite3.connect(\"empresa.db\")\n",
    "cur = conn.cursor()"
   ]
  },
  {
   "cell_type": "code",
   "execution_count": 125,
   "id": "18d08eb3",
   "metadata": {},
   "outputs": [
    {
     "name": "stdout",
     "output_type": "stream",
     "text": [
      "   id      nome  salario  lider_id\n",
      "0  40     Helen     1500      50.0\n",
      "1  50     Bruno     3000      10.0\n",
      "2  10  Leonardo     4500      20.0\n",
      "3  20    Marcos    10000       NaN\n",
      "4  70    Mateus     1500      10.0\n",
      "5  60   Cinthia     2000      70.0\n",
      "6  30    Wilian     1501      50.0\n"
     ]
    }
   ],
   "source": [
    "# Remove tabela anterior, se já existir\n",
    "cur.execute(\"DROP TABLE IF EXISTS colaboradores\")\n",
    "\n",
    "# Cria a tabela\n",
    "cur.execute(\"\"\"\n",
    "CREATE TABLE colaboradores (\n",
    "    id INTEGER NOT NULL,\n",
    "    nome VARCHAR NOT NULL,\n",
    "    salario INTEGER NOT NULL,\n",
    "    lider_id INTEGER,\n",
    "    UNIQUE(id)\n",
    ")\n",
    "\"\"\")\n",
    "\n",
    "# Insere os dados\n",
    "dados = [\n",
    "    (40, 'Helen', 1500, 50),\n",
    "    (50, 'Bruno', 3000, 10),\n",
    "    (10, 'Leonardo', 4500, 20),\n",
    "    (20, 'Marcos', 10000, None),\n",
    "    (70, 'Mateus', 1500, 10),\n",
    "    (60, 'Cinthia', 2000, 70),\n",
    "    (30, 'Wilian', 1501, 50)\n",
    "]\n",
    "\n",
    "cur.executemany(\"INSERT INTO colaboradores VALUES (?, ?, ?, ?)\", dados)\n",
    "conn.commit()\n",
    "\n",
    "# Consulta para conferir os dados\n",
    "df = pd.read_sql_query(\"SELECT * FROM colaboradores\", conn)\n",
    "print(df)\n"
   ]
  },
  {
   "cell_type": "code",
   "execution_count": 126,
   "id": "d9ac0af1",
   "metadata": {},
   "outputs": [
    {
     "name": "stdout",
     "output_type": "stream",
     "text": [
      "   id      nome  salario  lider_id\n",
      "0  40     Helen     1500      50.0\n",
      "1  50     Bruno     3000      10.0\n",
      "2  10  Leonardo     4500      20.0\n",
      "3  20    Marcos    10000       NaN\n",
      "4  70    Mateus     1500      10.0\n",
      "5  60   Cinthia     2000      70.0\n",
      "6  30    Wilian     1501      50.0\n"
     ]
    }
   ],
   "source": [
    "df = pd.read_sql_query(\"\"\"\n",
    "SELECT \n",
    "    id, \n",
    "    nome, \n",
    "    salario, \n",
    "    lider_id\n",
    "FROM colaboradores\n",
    "\"\"\", conn)\n",
    "\n",
    "print(df)"
   ]
  },
  {
   "cell_type": "code",
   "execution_count": 241,
   "id": "14cf2812",
   "metadata": {},
   "outputs": [
    {
     "name": "stdout",
     "output_type": "stream",
     "text": [
      "   funcionario_id  chefe_id  nivel\n",
      "0              40      50.0      0\n",
      "1              50      10.0      0\n",
      "2              10      20.0      0\n",
      "3              20       NaN      0\n",
      "4              70      10.0      0\n",
      "5              60      70.0      0\n",
      "6              30      50.0      0\n"
     ]
    }
   ],
   "source": [
    "query = \"\"\"\n",
    "    SELECT \n",
    "        id AS funcionario_id,\n",
    "        lider_id AS chefe_id,\n",
    "        0 as nivel\n",
    "    FROM colaboradores\n",
    "\"\"\"\n",
    "\n",
    "df = pd.read_sql_query(query, conn)\n",
    "print(df)\n"
   ]
  },
  {
   "cell_type": "code",
   "execution_count": 242,
   "id": "dac6226c",
   "metadata": {},
   "outputs": [
    {
     "name": "stdout",
     "output_type": "stream",
     "text": [
      "    funcionario_id  chefe_id  nivel\n",
      "0               10      20.0      0\n",
      "1               10       NaN      1\n",
      "2               20       NaN      0\n",
      "3               30      50.0      0\n",
      "4               30      10.0      1\n",
      "5               30      20.0      2\n",
      "6               30       NaN      3\n",
      "7               40      50.0      0\n",
      "8               40      10.0      1\n",
      "9               40      20.0      2\n",
      "10              40       NaN      3\n",
      "11              50      10.0      0\n",
      "12              50      20.0      1\n",
      "13              50       NaN      2\n",
      "14              60      70.0      0\n",
      "15              60      10.0      1\n",
      "16              60      20.0      2\n",
      "17              60       NaN      3\n",
      "18              70      10.0      0\n",
      "19              70      20.0      1\n",
      "20              70       NaN      2\n"
     ]
    }
   ],
   "source": [
    "query = \"\"\"\n",
    "WITH RECURSIVE Hierarquia AS (\n",
    "    SELECT id AS funcionario_id, lider_id AS chefe_id, 0 AS nivel\n",
    "    FROM colaboradores\n",
    "\n",
    "    UNION ALL\n",
    "    SELECT h.funcionario_id, c.lider_id AS chefe_id, h.nivel + 1\n",
    "    FROM Hierarquia h\n",
    "    JOIN colaboradores c ON h.chefe_id = c.id\n",
    "    WHERE h.chefe_id IS NOT NULL\n",
    ")\n",
    "SELECT * FROM Hierarquia\n",
    "order BY funcionario_id, nivel;\n",
    "\"\"\"\n",
    "\n",
    "df = pd.read_sql_query(query, conn)\n",
    "print(df)"
   ]
  },
  {
   "cell_type": "code",
   "execution_count": 243,
   "id": "60d1a9c1",
   "metadata": {},
   "outputs": [
    {
     "name": "stdout",
     "output_type": "stream",
     "text": [
      "    funcionario_id  chefe_id  salario_func  salario_chefe  nivel\n",
      "0               40        50          1500           3000      0\n",
      "1               10        20          4500          10000      0\n",
      "2               70        10          1500           4500      0\n",
      "3               40        10          1500           4500      1\n",
      "4               50        20          3000          10000      1\n",
      "5               70        20          1500          10000      1\n",
      "6               60        10          2000           4500      1\n",
      "7               30        10          1501           4500      1\n",
      "8               40        20          1500          10000      2\n",
      "9               60        20          2000          10000      2\n",
      "10              30        20          1501          10000      2\n"
     ]
    }
   ],
   "source": [
    "query = \"\"\"\n",
    "WITH RECURSIVE Hierarquia AS (\n",
    "    SELECT id AS funcionario_id, lider_id AS chefe_id, 0 AS nivel\n",
    "    FROM colaboradores\n",
    "    UNION ALL\n",
    "    SELECT h.funcionario_id, c.lider_id AS chefe_id, h.nivel + 1\n",
    "    FROM Hierarquia h\n",
    "    JOIN colaboradores c ON h.chefe_id = c.id\n",
    "    WHERE h.chefe_id IS NOT NULL\n",
    ")\n",
    "SELECT \n",
    "  h.funcionario_id, \n",
    "  h.chefe_id,\n",
    "  f.salario AS salario_func, \n",
    "  ch.salario AS salario_chefe,\n",
    "  h.nivel\n",
    "FROM Hierarquia h\n",
    "JOIN colaboradores f ON f.id = h.funcionario_id\n",
    "JOIN colaboradores ch ON ch.id = h.chefe_id\n",
    "WHERE ch.salario >= 2 * f.salario;\n",
    "\"\"\"\n",
    "\n",
    "df = pd.read_sql_query(query, conn)\n",
    "print(df)"
   ]
  },
  {
   "cell_type": "code",
   "execution_count": 244,
   "id": "e208dec0",
   "metadata": {},
   "outputs": [
    {
     "name": "stdout",
     "output_type": "stream",
     "text": [
      "   funcionario_id  chefe_id\n",
      "0              10      20.0\n",
      "1              20       NaN\n",
      "2              30      10.0\n",
      "3              40      50.0\n",
      "4              50      20.0\n",
      "5              60      10.0\n",
      "6              70      10.0\n"
     ]
    }
   ],
   "source": [
    "query = \"\"\"\n",
    "WITH RECURSIVE Hierarquia AS (\n",
    "    -- mesma recursiva\n",
    "    SELECT id AS funcionario_id, lider_id AS chefe_id, 0 AS nivel\n",
    "    FROM colaboradores\n",
    "    UNION ALL\n",
    "    SELECT h.funcionario_id, c.lider_id AS chefe_id, h.nivel + 1\n",
    "    FROM Hierarquia h\n",
    "    JOIN colaboradores c ON h.chefe_id = c.id\n",
    "    WHERE h.chefe_id IS NOT NULL\n",
    "),\n",
    "ChefeSalario AS (\n",
    "    SELECT \n",
    "      h.funcionario_id, \n",
    "      h.chefe_id,\n",
    "      h.nivel\n",
    "    FROM Hierarquia h\n",
    "    JOIN colaboradores f ON f.id = h.funcionario_id\n",
    "    JOIN colaboradores ch ON ch.id = h.chefe_id\n",
    "    WHERE ch.salario >= 2 * f.salario\n",
    "),\n",
    "MenorChefe AS (\n",
    "    SELECT funcionario_id, chefe_id\n",
    "    FROM ChefeSalario\n",
    "    WHERE (funcionario_id, nivel) IN (\n",
    "        SELECT funcionario_id, MIN(nivel) FROM ChefeSalario GROUP BY funcionario_id\n",
    "    )\n",
    ")\n",
    "SELECT \n",
    "    c.id AS funcionario_id, \n",
    "    mc.chefe_id\n",
    "FROM colaboradores c\n",
    "LEFT JOIN MenorChefe mc ON c.id = mc.funcionario_id\n",
    "ORDER BY c.id;\n",
    "\"\"\"\n",
    "\n",
    "df = pd.read_sql_query(query, conn)\n",
    "print(df)"
   ]
  }
 ],
 "metadata": {
  "kernelspec": {
   "display_name": "Python 3",
   "language": "python",
   "name": "python3"
  },
  "language_info": {
   "codemirror_mode": {
    "name": "ipython",
    "version": 3
   },
   "file_extension": ".py",
   "mimetype": "text/x-python",
   "name": "python",
   "nbconvert_exporter": "python",
   "pygments_lexer": "ipython3",
   "version": "3.13.7"
  }
 },
 "nbformat": 4,
 "nbformat_minor": 5
}
