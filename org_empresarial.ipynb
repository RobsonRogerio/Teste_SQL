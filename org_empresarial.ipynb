{
 "cells": [
  {
   "cell_type": "code",
   "execution_count": 123,
   "id": "bb84a970",
   "metadata": {},
   "outputs": [],
   "source": [
    "import sqlite3\n",
    "import pandas as pd"
   ]
  },
  {
   "cell_type": "code",
   "execution_count": 124,
   "id": "1aa1d518",
   "metadata": {},
   "outputs": [],
   "source": [
    "# Conecta ao banco (pode ser em memória ou arquivo .db)\n",
    "conn = sqlite3.connect(\"empresa.db\")\n",
    "cur = conn.cursor()"
   ]
  },
  {
   "cell_type": "code",
   "execution_count": 125,
   "id": "18d08eb3",
   "metadata": {},
   "outputs": [
    {
     "name": "stdout",
     "output_type": "stream",
     "text": [
      "   id      nome  salario  lider_id\n",
      "0  40     Helen     1500      50.0\n",
      "1  50     Bruno     3000      10.0\n",
      "2  10  Leonardo     4500      20.0\n",
      "3  20    Marcos    10000       NaN\n",
      "4  70    Mateus     1500      10.0\n",
      "5  60   Cinthia     2000      70.0\n",
      "6  30    Wilian     1501      50.0\n"
     ]
    }
   ],
   "source": [
    "# Remove tabela anterior, se já existir\n",
    "cur.execute(\"DROP TABLE IF EXISTS colaboradores\")\n",
    "\n",
    "# Cria a tabela\n",
    "cur.execute(\"\"\"\n",
    "CREATE TABLE colaboradores (\n",
    "    id INTEGER NOT NULL,\n",
    "    nome VARCHAR NOT NULL,\n",
    "    salario INTEGER NOT NULL,\n",
    "    lider_id INTEGER,\n",
    "    UNIQUE(id)\n",
    ")\n",
    "\"\"\")\n",
    "\n",
    "# Insere os dados\n",
    "dados = [\n",
    "    (40, 'Helen', 1500, 50),\n",
    "    (50, 'Bruno', 3000, 10),\n",
    "    (10, 'Leonardo', 4500, 20),\n",
    "    (20, 'Marcos', 10000, None),\n",
    "    (70, 'Mateus', 1500, 10),\n",
    "    (60, 'Cinthia', 2000, 70),\n",
    "    (30, 'Wilian', 1501, 50)\n",
    "]\n",
    "\n",
    "cur.executemany(\"INSERT INTO colaboradores VALUES (?, ?, ?, ?)\", dados)\n",
    "conn.commit()\n",
    "\n",
    "# Consulta para conferir os dados\n",
    "df = pd.read_sql_query(\"SELECT * FROM colaboradores\", conn)\n",
    "print(df)\n"
   ]
  },
  {
   "cell_type": "code",
   "execution_count": 126,
   "id": "d9ac0af1",
   "metadata": {},
   "outputs": [
    {
     "name": "stdout",
     "output_type": "stream",
     "text": [
      "   id      nome  salario  lider_id\n",
      "0  40     Helen     1500      50.0\n",
      "1  50     Bruno     3000      10.0\n",
      "2  10  Leonardo     4500      20.0\n",
      "3  20    Marcos    10000       NaN\n",
      "4  70    Mateus     1500      10.0\n",
      "5  60   Cinthia     2000      70.0\n",
      "6  30    Wilian     1501      50.0\n"
     ]
    }
   ],
   "source": [
    "df = pd.read_sql_query(\"\"\"\n",
    "SELECT \n",
    "    id, \n",
    "    nome, \n",
    "    salario, \n",
    "    lider_id\n",
    "FROM colaboradores\n",
    "\"\"\", conn)\n",
    "\n",
    "print(df)"
   ]
  },
  {
   "cell_type": "code",
   "execution_count": 169,
   "id": "6fa3ad52",
   "metadata": {},
   "outputs": [
    {
     "name": "stdout",
     "output_type": "stream",
     "text": [
      "   f_id    f_nome  f_salario  lider_id_l1   nome_l1  salario_l1  lider_id_l2  \\\n",
      "0    10  Leonardo       4500         20.0    Marcos     10000.0          NaN   \n",
      "1    20    Marcos      10000          NaN      None         NaN          NaN   \n",
      "2    30    Wilian       1501         50.0     Bruno      3000.0         10.0   \n",
      "3    40     Helen       1500         50.0     Bruno      3000.0         10.0   \n",
      "4    50     Bruno       3000         10.0  Leonardo      4500.0         20.0   \n",
      "5    60   Cinthia       2000         70.0    Mateus      1500.0         10.0   \n",
      "6    70    Mateus       1500         10.0  Leonardo      4500.0         20.0   \n",
      "\n",
      "    nome_l2  salario_l2  lider_id_l3 nome_l3  salario_l3  ttl_chefes_n1  \\\n",
      "0      None         NaN          NaN    None         NaN              1   \n",
      "1      None         NaN          NaN    None         NaN              0   \n",
      "2  Leonardo      4500.0         20.0  Marcos     10000.0              1   \n",
      "3  Leonardo      4500.0         20.0  Marcos     10000.0              1   \n",
      "4    Marcos     10000.0          NaN    None         NaN              1   \n",
      "5  Leonardo      4500.0         20.0  Marcos     10000.0              1   \n",
      "6    Marcos     10000.0          NaN    None         NaN              1   \n",
      "\n",
      "   ttl_chefes_n2  ttl_chefes_n3  total_chefes  \n",
      "0              0              0             1  \n",
      "1              0              0             0  \n",
      "2              1              1             3  \n",
      "3              1              1             3  \n",
      "4              1              0             2  \n",
      "5              1              1             3  \n",
      "6              1              0             2  \n"
     ]
    }
   ],
   "source": [
    "query = \"\"\"\n",
    "    WITH Lideranca AS (\n",
    "        SELECT \n",
    "            f.id as f_id, \n",
    "            f.nome as f_nome, \n",
    "            f.salario as f_salario, \n",
    "                            \n",
    "            l1.id AS lider_id_l1,\n",
    "            l1.nome AS nome_l1,\n",
    "            l1.salario AS salario_l1,\n",
    "\n",
    "            l2.id AS lider_id_l2,\n",
    "            l2.nome AS nome_l2,            \n",
    "            l2.salario AS salario_l2,\n",
    "\n",
    "            l3.id AS lider_id_l3,\n",
    "            l3.nome AS nome_l3,\n",
    "            l3.salario AS salario_l3,\n",
    "                            \n",
    "            case when l1.id is not null then 1 else 0 end as ttl_chefes_n1,\n",
    "            case when l2.id is not null then 1 else 0 end as ttl_chefes_n2,\n",
    "            case when l3.id is not null then 1 else 0 end as ttl_chefes_n3,\n",
    "                            \n",
    "            (\n",
    "            case when l1.id is not null then 1 else 0 end +\n",
    "            case when l2.id is not null then 1 else 0 end +\n",
    "            case when l3.id is not null then 1 else 0 end     \n",
    "            ) as total_chefes\n",
    "\n",
    "        FROM colaboradores as f\n",
    "        LEFT JOIN colaboradores as l1 ON f.lider_id = l1.id\n",
    "        LEFT JOIN colaboradores as l2 ON l1.lider_id = l2.id\n",
    "        LEFT JOIN colaboradores as l3 ON l2.lider_id = l3.id\n",
    "\n",
    "        GROUP BY f.id                      \n",
    "        ORDER BY f.id\n",
    ")\n",
    "\n",
    "SELECT * FROM Lideranca\n",
    "ORDER BY f_id;\n",
    "\"\"\"\n",
    "\n",
    "df = pd.read_sql_query(query, conn)\n",
    "\n",
    "print(df)\n",
    "\n",
    "# Para cada funcionário, gostaríamos de encontrar o chefe \n",
    "# indireto de classificação mais baixa do funcionário na\n",
    "# hierarquia que ganha pelo menos o dobro do funcionário."
   ]
  },
  {
   "cell_type": "code",
   "execution_count": 170,
   "id": "b107aaba",
   "metadata": {},
   "outputs": [
    {
     "data": {
      "text/plain": [
       "<sqlite3.Cursor at 0x1e3e4665040>"
      ]
     },
     "execution_count": 170,
     "metadata": {},
     "output_type": "execute_result"
    }
   ],
   "source": [
    "cur.execute(\"DROP TABLE IF EXISTS lideranca_tmp\")\n",
    "\n",
    "conn.execute(\"\"\"\n",
    "CREATE TEMP TABLE lideranca_tmp AS\n",
    "WITH Lideranca AS (\n",
    "    SELECT \n",
    "        f.id as f_id, \n",
    "        f.nome as f_nome, \n",
    "        f.salario as f_salario, \n",
    "                        \n",
    "        l1.id AS lider_id_l1,\n",
    "        l1.nome AS nome_l1,\n",
    "        l1.salario AS salario_l1,\n",
    "\n",
    "        l2.id AS lider_id_l2,\n",
    "        l2.nome AS nome_l2,            \n",
    "        l2.salario AS salario_l2,\n",
    "\n",
    "        l3.id AS lider_id_l3,\n",
    "        l3.nome AS nome_l3,\n",
    "        l3.salario AS salario_l3,\n",
    "                        \n",
    "        CASE WHEN l1.id IS NOT NULL THEN 1 ELSE 0 END AS ttl_chefes_n1,\n",
    "        CASE WHEN l2.id IS NOT NULL THEN 1 ELSE 0 END AS ttl_chefes_n2,\n",
    "        CASE WHEN l3.id IS NOT NULL THEN 1 ELSE 0 END AS ttl_chefes_n3,\n",
    "                        \n",
    "        (\n",
    "            CASE WHEN l1.id IS NOT NULL THEN 1 ELSE 0 END +\n",
    "            CASE WHEN l2.id IS NOT NULL THEN 1 ELSE 0 END +\n",
    "            CASE WHEN l3.id IS NOT NULL THEN 1 ELSE 0 END     \n",
    "        ) AS total_chefes\n",
    "\n",
    "    FROM colaboradores AS f\n",
    "    LEFT JOIN colaboradores AS l1 ON f.lider_id = l1.id\n",
    "    LEFT JOIN colaboradores AS l2 ON l1.lider_id = l2.id\n",
    "    LEFT JOIN colaboradores AS l3 ON l2.lider_id = l3.id\n",
    "    GROUP BY f.id                      \n",
    "    ORDER BY f.id\n",
    ")\n",
    "SELECT * FROM Lideranca\n",
    "ORDER BY f_id;\n",
    "\"\"\")\n"
   ]
  },
  {
   "cell_type": "code",
   "execution_count": 171,
   "id": "56fe1cbc",
   "metadata": {},
   "outputs": [
    {
     "name": "stdout",
     "output_type": "stream",
     "text": [
      "   f_id lider_id_l1\n",
      "0    20        None\n"
     ]
    }
   ],
   "source": [
    "query = \"\"\"\n",
    "select\n",
    "    f_id,\n",
    "    lider_id_l1\n",
    "from lideranca_tmp\n",
    "where lider_id_l1 IS NULL\n",
    "\"\"\"\n",
    "\n",
    "df = pd.read_sql_query(query, conn)\n",
    "\n",
    "print(df)"
   ]
  },
  {
   "cell_type": "code",
   "execution_count": 192,
   "id": "8764bab8",
   "metadata": {},
   "outputs": [
    {
     "name": "stdout",
     "output_type": "stream",
     "text": [
      "   f_id    f_nome  f_salario  lider_id_l1   nome_l1  salario_l1  lider_id_l2  \\\n",
      "0    10  Leonardo       4500         20.0    Marcos     10000.0          NaN   \n",
      "1    20    Marcos      10000          NaN      None         NaN          NaN   \n",
      "2    30    Wilian       1501         50.0     Bruno      3000.0         10.0   \n",
      "3    40     Helen       1500         50.0     Bruno      3000.0         10.0   \n",
      "4    50     Bruno       3000         10.0  Leonardo      4500.0         20.0   \n",
      "5    60   Cinthia       2000         70.0    Mateus      1500.0         10.0   \n",
      "6    70    Mateus       1500         10.0  Leonardo      4500.0         20.0   \n",
      "\n",
      "    nome_l2  salario_l2  lider_id_l3 nome_l3  salario_l3  ttl_chefes_n1  \\\n",
      "0      None         NaN          NaN    None         NaN              1   \n",
      "1      None         NaN          NaN    None         NaN              0   \n",
      "2  Leonardo      4500.0         20.0  Marcos     10000.0              1   \n",
      "3  Leonardo      4500.0         20.0  Marcos     10000.0              1   \n",
      "4    Marcos     10000.0          NaN    None         NaN              1   \n",
      "5  Leonardo      4500.0         20.0  Marcos     10000.0              1   \n",
      "6    Marcos     10000.0          NaN    None         NaN              1   \n",
      "\n",
      "   ttl_chefes_n2  ttl_chefes_n3  total_chefes  \n",
      "0              0              0             1  \n",
      "1              0              0             0  \n",
      "2              1              1             3  \n",
      "3              1              1             3  \n",
      "4              1              0             2  \n",
      "5              1              1             3  \n",
      "6              1              0             2  \n"
     ]
    }
   ],
   "source": [
    "query = \"\"\"\n",
    "select\n",
    "    *\n",
    "from lideranca_tmp\n",
    "order by f_id\n",
    "\"\"\"\n",
    "\n",
    "df = pd.read_sql_query(query, conn)\n",
    "\n",
    "print(df)"
   ]
  },
  {
   "cell_type": "code",
   "execution_count": 194,
   "id": "9d8f2813",
   "metadata": {},
   "outputs": [
    {
     "name": "stdout",
     "output_type": "stream",
     "text": [
      "   f_id lider_id_l1 salario_l1\n",
      "0    20        None       None\n"
     ]
    }
   ],
   "source": [
    "query = \"\"\"\n",
    "select\n",
    "    f_id,\n",
    "    lider_id_l1,\n",
    "    salario_l1\n",
    "from lideranca_tmp\n",
    "where lider_id_l1 IS NULL\n",
    "\"\"\"\n",
    "\n",
    "df = pd.read_sql_query(query, conn)\n",
    "\n",
    "print(df)"
   ]
  },
  {
   "cell_type": "code",
   "execution_count": 204,
   "id": "35869a85",
   "metadata": {},
   "outputs": [
    {
     "name": "stdout",
     "output_type": "stream",
     "text": [
      "   f_id  lider_id_l1  salario_l1  total_chefes\n",
      "0    10           20       10000             1\n"
     ]
    }
   ],
   "source": [
    "query = \"\"\"\n",
    "select\n",
    "    f_id,\n",
    "    lider_id_l1,\n",
    "    salario_l1,\n",
    "    total_chefes\n",
    "from lideranca_tmp\n",
    "where total_chefes = 1 and salario_l1 >= 2 * f_salario\n",
    "and lider_id_l2 is null\n",
    "\"\"\"\n",
    "\n",
    "df = pd.read_sql_query(query, conn)\n",
    "\n",
    "print(df)"
   ]
  },
  {
   "cell_type": "code",
   "execution_count": 206,
   "id": "835beeea",
   "metadata": {},
   "outputs": [
    {
     "name": "stdout",
     "output_type": "stream",
     "text": [
      "   f_id  lider_id_l1  salario_l1  total_chefes\n",
      "0    70           10        4500             2\n"
     ]
    }
   ],
   "source": [
    "query = \"\"\"\n",
    "select\n",
    "    f_id,\n",
    "    lider_id_l1,\n",
    "    salario_l1,\n",
    "    total_chefes\n",
    "from lideranca_tmp\n",
    "where total_chefes = 2 and salario_l1 >= 2 * f_salario\n",
    "and lider_id_l3 IS NULL\n",
    "\"\"\"\n",
    "\n",
    "df = pd.read_sql_query(query, conn)\n",
    "\n",
    "print(df)"
   ]
  },
  {
   "cell_type": "code",
   "execution_count": 216,
   "id": "8c1151e7",
   "metadata": {},
   "outputs": [
    {
     "name": "stdout",
     "output_type": "stream",
     "text": [
      "   f_id  lider_id_l2  salario_l2  total_chefes\n",
      "0    50           20       10000             2\n",
      "1    70           20       10000             2\n"
     ]
    }
   ],
   "source": [
    "query = \"\"\"\n",
    "select\n",
    "    f_id,\n",
    "    lider_id_l2,\n",
    "    salario_l2,\n",
    "    total_chefes\n",
    "from lideranca_tmp\n",
    "where total_chefes = 2 and salario_l2 >= 2 * f_salario\n",
    "and lider_id_l3 IS NULL\n",
    "\"\"\"\n",
    "\n",
    "df = pd.read_sql_query(query, conn)\n",
    "\n",
    "print(df)"
   ]
  },
  {
   "cell_type": "code",
   "execution_count": 230,
   "id": "14cf2812",
   "metadata": {},
   "outputs": [
    {
     "name": "stdout",
     "output_type": "stream",
     "text": [
      "   funcionario_id  chefe_id  nivel\n",
      "0              40      50.0      0\n",
      "1              50      10.0      0\n",
      "2              10      20.0      0\n",
      "3              20       NaN      0\n",
      "4              70      10.0      0\n",
      "5              60      70.0      0\n",
      "6              30      50.0      0\n"
     ]
    }
   ],
   "source": [
    "query = \"\"\"\n",
    "    SELECT \n",
    "        id AS funcionario_id,\n",
    "        lider_id AS chefe_id,\n",
    "        0 as nivel\n",
    "    FROM colaboradores\n",
    "\"\"\"\n",
    "\n",
    "df = pd.read_sql_query(query, conn)\n",
    "print(df)\n"
   ]
  },
  {
   "cell_type": "code",
   "execution_count": 224,
   "id": "dac6226c",
   "metadata": {},
   "outputs": [
    {
     "name": "stdout",
     "output_type": "stream",
     "text": [
      "    funcionario_id  chefe_id  depth\n",
      "0               10      20.0      0\n",
      "1               10       NaN      1\n",
      "2               20       NaN      0\n",
      "3               30      50.0      0\n",
      "4               30      10.0      1\n",
      "5               30      20.0      2\n",
      "6               30       NaN      3\n",
      "7               40      50.0      0\n",
      "8               40      10.0      1\n",
      "9               40      20.0      2\n",
      "10              40       NaN      3\n",
      "11              50      10.0      0\n",
      "12              50      20.0      1\n",
      "13              50       NaN      2\n",
      "14              60      70.0      0\n",
      "15              60      10.0      1\n",
      "16              60      20.0      2\n",
      "17              60       NaN      3\n",
      "18              70      10.0      0\n",
      "19              70      20.0      1\n",
      "20              70       NaN      2\n"
     ]
    }
   ],
   "source": [
    "query = \"\"\"\n",
    "WITH RECURSIVE Hierarquia AS (\n",
    "    SELECT id AS funcionario_id, lider_id AS chefe_id, 0 AS depth\n",
    "    FROM colaboradores\n",
    "\n",
    "    UNION ALL\n",
    "    SELECT h.funcionario_id, c.lider_id AS chefe_id, h.depth + 1\n",
    "    FROM Hierarquia h\n",
    "    JOIN colaboradores c ON h.chefe_id = c.id\n",
    "    WHERE h.chefe_id IS NOT NULL\n",
    ")\n",
    "SELECT * FROM Hierarquia\n",
    "order BY funcionario_id, depth;\n",
    "\"\"\"\n",
    "\n",
    "df = pd.read_sql_query(query, conn)\n",
    "print(df)"
   ]
  },
  {
   "cell_type": "code",
   "execution_count": 237,
   "id": "60d1a9c1",
   "metadata": {},
   "outputs": [
    {
     "name": "stdout",
     "output_type": "stream",
     "text": [
      "    funcionario_id  chefe_id  salario_func  salario_chefe  depth\n",
      "0               40        50          1500           3000      0\n",
      "1               10        20          4500          10000      0\n",
      "2               70        10          1500           4500      0\n",
      "3               40        10          1500           4500      1\n",
      "4               50        20          3000          10000      1\n",
      "5               70        20          1500          10000      1\n",
      "6               60        10          2000           4500      1\n",
      "7               30        10          1501           4500      1\n",
      "8               40        20          1500          10000      2\n",
      "9               60        20          2000          10000      2\n",
      "10              30        20          1501          10000      2\n"
     ]
    }
   ],
   "source": [
    "query = \"\"\"\n",
    "WITH RECURSIVE Hierarquia AS (\n",
    "    SELECT id AS funcionario_id, lider_id AS chefe_id, 0 AS depth\n",
    "    FROM colaboradores\n",
    "    UNION ALL\n",
    "    SELECT h.funcionario_id, c.lider_id AS chefe_id, h.depth + 1\n",
    "    FROM Hierarquia h\n",
    "    JOIN colaboradores c ON h.chefe_id = c.id\n",
    "    WHERE h.chefe_id IS NOT NULL\n",
    ")\n",
    "SELECT \n",
    "  h.funcionario_id, \n",
    "  h.chefe_id,\n",
    "  f.salario AS salario_func, \n",
    "  ch.salario AS salario_chefe,\n",
    "  h.depth\n",
    "FROM Hierarquia h\n",
    "JOIN colaboradores f ON f.id = h.funcionario_id\n",
    "JOIN colaboradores ch ON ch.id = h.chefe_id\n",
    "WHERE ch.salario >= 2 * f.salario;\n",
    "\"\"\"\n",
    "\n",
    "df = pd.read_sql_query(query, conn)\n",
    "print(df)"
   ]
  },
  {
   "cell_type": "code",
   "execution_count": 239,
   "id": "e208dec0",
   "metadata": {},
   "outputs": [
    {
     "name": "stdout",
     "output_type": "stream",
     "text": [
      "   funcionario_id  chefe_id\n",
      "0              10      20.0\n",
      "1              20       NaN\n",
      "2              30      10.0\n",
      "3              40      50.0\n",
      "4              50      20.0\n",
      "5              60      10.0\n",
      "6              70      10.0\n"
     ]
    }
   ],
   "source": [
    "query = \"\"\"\n",
    "WITH RECURSIVE Hierarquia AS (\n",
    "    -- mesma recursiva\n",
    "    SELECT id AS funcionario_id, lider_id AS chefe_id, 0 AS depth\n",
    "    FROM colaboradores\n",
    "    UNION ALL\n",
    "    SELECT h.funcionario_id, c.lider_id AS chefe_id, h.depth + 1\n",
    "    FROM Hierarquia h\n",
    "    JOIN colaboradores c ON h.chefe_id = c.id\n",
    "    WHERE h.chefe_id IS NOT NULL\n",
    "),\n",
    "ChefeSalario AS (\n",
    "    SELECT \n",
    "      h.funcionario_id, \n",
    "      h.chefe_id,\n",
    "      h.depth\n",
    "    FROM Hierarquia h\n",
    "    JOIN colaboradores f ON f.id = h.funcionario_id\n",
    "    JOIN colaboradores ch ON ch.id = h.chefe_id\n",
    "    WHERE ch.salario >= 2 * f.salario\n",
    "),\n",
    "MenorChefe AS (\n",
    "    SELECT funcionario_id, chefe_id\n",
    "    FROM ChefeSalario\n",
    "    WHERE (funcionario_id, depth) IN (\n",
    "        SELECT funcionario_id, MIN(depth) FROM ChefeSalario GROUP BY funcionario_id\n",
    "    )\n",
    ")\n",
    "SELECT \n",
    "    c.id AS funcionario_id, \n",
    "    mc.chefe_id\n",
    "FROM colaboradores c\n",
    "LEFT JOIN MenorChefe mc ON c.id = mc.funcionario_id\n",
    "ORDER BY c.id;\n",
    "\"\"\"\n",
    "\n",
    "df = pd.read_sql_query(query, conn)\n",
    "print(df)"
   ]
  }
 ],
 "metadata": {
  "kernelspec": {
   "display_name": "Python 3",
   "language": "python",
   "name": "python3"
  },
  "language_info": {
   "codemirror_mode": {
    "name": "ipython",
    "version": 3
   },
   "file_extension": ".py",
   "mimetype": "text/x-python",
   "name": "python",
   "nbconvert_exporter": "python",
   "pygments_lexer": "ipython3",
   "version": "3.13.7"
  }
 },
 "nbformat": 4,
 "nbformat_minor": 5
}
